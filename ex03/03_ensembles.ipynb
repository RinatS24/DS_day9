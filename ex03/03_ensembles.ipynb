{
 "cells": [
  {
   "cell_type": "markdown",
   "metadata": {},
   "source": [
    "# Day 09. Exercise 03\n",
    "# Ensembles"
   ]
  },
  {
   "cell_type": "markdown",
   "metadata": {},
   "source": [
    "## 0. Imports"
   ]
  },
  {
   "cell_type": "code",
   "execution_count": 66,
   "metadata": {},
   "outputs": [],
   "source": [
    "import pandas as pd\n",
    "import joblib\n",
    "\n",
    "from sklearn.model_selection import train_test_split, StratifiedKFold\n",
    "from sklearn.linear_model import LogisticRegression\n",
    "from sklearn.svm import SVC\n",
    "from sklearn.tree import DecisionTreeClassifier\n",
    "from sklearn.ensemble import RandomForestClassifier, VotingClassifier, BaggingClassifier, StackingClassifier\n",
    "\n",
    "from sklearn.metrics import accuracy_score, precision_score, recall_score"
   ]
  },
  {
   "cell_type": "markdown",
   "metadata": {},
   "source": [
    "## 1. Preprocessing"
   ]
  },
  {
   "cell_type": "markdown",
   "metadata": {},
   "source": [
    "1. Create the same dataframe as in the previous exercise.\n",
    "2. Using `train_test_split` with parameters `test_size=0.2`, `random_state=21` get `X_train`, `y_train`, `X_test`, `y_test` and then get `X_train`, `y_train`, `X_valid`, `y_valid` from the previous `X_train`, `y_train`. Use the additional parameter `stratify`."
   ]
  },
  {
   "cell_type": "code",
   "execution_count": 33,
   "metadata": {},
   "outputs": [],
   "source": [
    "df = pd.read_csv('../data/day-of-week-not-scaled.csv')\n",
    "weeks = pd.read_csv('../data/dayofweek.csv')\n",
    "df[\"weeks\"] = weeks['dayofweek']"
   ]
  },
  {
   "cell_type": "code",
   "execution_count": 34,
   "metadata": {},
   "outputs": [],
   "source": [
    "X = df.drop(\"weeks\",axis=1)\n",
    "y = df[\"weeks\"]\n",
    "\n",
    "X_train, X_test, y_train, y_test = train_test_split(X, y, test_size=0.2, random_state=21, stratify=y)"
   ]
  },
  {
   "cell_type": "code",
   "execution_count": 35,
   "metadata": {},
   "outputs": [],
   "source": [
    "X_train, X_valid, y_train, y_valid = train_test_split(X_train, y_train, test_size=0.2, random_state=21, stratify=y_train)"
   ]
  },
  {
   "cell_type": "markdown",
   "metadata": {},
   "source": [
    "## 2. Individual classifiers"
   ]
  },
  {
   "cell_type": "markdown",
   "metadata": {},
   "source": [
    "1. Train SVM, decision tree and random forest again with the best parameters that you got from the 01 exercise with `random_state=21` for all of them.\n",
    "2. Evaluate `accuracy`, `precision`, and `recall` for them on the validation set.\n",
    "3. The result of each cell of the section should look like this:\n",
    "\n",
    "```\n",
    "accuracy is 0.87778\n",
    "precision is 0.88162\n",
    "recall is 0.87778\n",
    "```"
   ]
  },
  {
   "cell_type": "code",
   "execution_count": 36,
   "metadata": {},
   "outputs": [],
   "source": [
    "svm = SVC(C=10, class_weight=None, gamma='auto', kernel='rbf', random_state=21, probability=True)\n",
    "svm.fit(X_train, y_train)\n",
    "y_pred = svm.predict(X_valid)"
   ]
  },
  {
   "cell_type": "code",
   "execution_count": 37,
   "metadata": {},
   "outputs": [],
   "source": [
    "accuracy = accuracy_score(y_valid, y_pred)\n",
    "precision = precision_score(y_valid, y_pred, average='weighted', zero_division=0)\n",
    "recall = recall_score(y_valid, y_pred, average='weighted', zero_division=0)"
   ]
  },
  {
   "cell_type": "code",
   "execution_count": 38,
   "metadata": {},
   "outputs": [
    {
     "name": "stdout",
     "output_type": "stream",
     "text": [
      "accuracy: 0.8778\n",
      "precision: 0.8816\n",
      "recall: 0.8778\n"
     ]
    }
   ],
   "source": [
    "print(f'accuracy: {accuracy:.4f}')\n",
    "print(f'precision: {precision:.4f}')\n",
    "print(f'recall: {recall:.4f}')"
   ]
  },
  {
   "cell_type": "code",
   "execution_count": 39,
   "metadata": {},
   "outputs": [],
   "source": [
    "tree = DecisionTreeClassifier(class_weight='balanced', criterion='entropy', max_depth=25, random_state=21)\n",
    "tree.fit(X_train, y_train)\n",
    "y_pred = tree.predict(X_valid)"
   ]
  },
  {
   "cell_type": "code",
   "execution_count": 40,
   "metadata": {},
   "outputs": [],
   "source": [
    "accuracy = accuracy_score(y_valid, y_pred)\n",
    "precision = precision_score(y_valid, y_pred, average='weighted', zero_division=0)\n",
    "recall = recall_score(y_valid, y_pred, average='weighted', zero_division=0)"
   ]
  },
  {
   "cell_type": "code",
   "execution_count": 41,
   "metadata": {},
   "outputs": [
    {
     "name": "stdout",
     "output_type": "stream",
     "text": [
      "accuracy: 0.8519\n",
      "precision: 0.8548\n",
      "recall: 0.8519\n"
     ]
    }
   ],
   "source": [
    "print(f'accuracy: {accuracy:.4f}')\n",
    "print(f'precision: {precision:.4f}')\n",
    "print(f'recall: {recall:.4f}')"
   ]
  },
  {
   "cell_type": "code",
   "execution_count": 42,
   "metadata": {},
   "outputs": [],
   "source": [
    "forest = RandomForestClassifier(class_weight='balanced', criterion='gini', max_depth=22, n_estimators=100, random_state=21)\n",
    "forest.fit(X_train, y_train)\n",
    "y_pred = forest.predict(X_valid)\n"
   ]
  },
  {
   "cell_type": "code",
   "execution_count": 43,
   "metadata": {},
   "outputs": [],
   "source": [
    "accuracy = accuracy_score(y_valid, y_pred)\n",
    "precision = precision_score(y_valid, y_pred, average='weighted', zero_division=0)\n",
    "recall = recall_score(y_valid, y_pred, average='weighted', zero_division=0)"
   ]
  },
  {
   "cell_type": "code",
   "execution_count": 44,
   "metadata": {},
   "outputs": [
    {
     "name": "stdout",
     "output_type": "stream",
     "text": [
      "accuracy: 0.9000\n",
      "precision: 0.9021\n",
      "recall: 0.9000\n"
     ]
    }
   ],
   "source": [
    "print(f'accuracy: {accuracy:.4f}')\n",
    "print(f'precision: {precision:.4f}')\n",
    "print(f'recall: {recall:.4f}')"
   ]
  },
  {
   "cell_type": "markdown",
   "metadata": {},
   "source": [
    "## 3. Voting classifiers"
   ]
  },
  {
   "cell_type": "markdown",
   "metadata": {},
   "source": [
    "1. Using `VotingClassifier` and the three models that you have just trained, calculate the `accuracy`, `precision`, and `recall` on the validation set.\n",
    "2. Play with the other parameteres.\n",
    "3. Calculate the `accuracy`, `precision` and `recall` on the test set for the model with the best weights in terms of accuracy (if there are several of them with equal values, choose the one with the higher precision)."
   ]
  },
  {
   "cell_type": "code",
   "execution_count": 45,
   "metadata": {},
   "outputs": [],
   "source": [
    "voting_class = VotingClassifier(estimators=[('svm', svm), ('dt', tree), ('rf', forest)], voting='soft')\n",
    "voting_class.fit(X_train, y_train)\n",
    "y_pred= voting_class.predict(X_valid)\n",
    "y_pred_test = voting_class.predict(X_test)"
   ]
  },
  {
   "cell_type": "code",
   "execution_count": 46,
   "metadata": {},
   "outputs": [],
   "source": [
    "accuracy = accuracy_score(y_valid, y_pred)\n",
    "precision = precision_score(y_valid, y_pred, average='weighted', zero_division=0)\n",
    "recall = recall_score(y_valid, y_pred, average='weighted', zero_division=0)"
   ]
  },
  {
   "cell_type": "code",
   "execution_count": 47,
   "metadata": {},
   "outputs": [
    {
     "name": "stdout",
     "output_type": "stream",
     "text": [
      "accuracy: 0.8852\n",
      "precision: 0.8871\n",
      "recall: 0.8852\n"
     ]
    }
   ],
   "source": [
    "print(f'accuracy: {accuracy:.4f}')\n",
    "print(f'precision: {precision:.4f}')\n",
    "print(f'recall: {recall:.4f}')"
   ]
  },
  {
   "cell_type": "code",
   "execution_count": 48,
   "metadata": {},
   "outputs": [],
   "source": [
    "accuracy_test = accuracy_score(y_test, y_pred_test)\n",
    "precision_test = precision_score(y_test, y_pred_test, average='weighted', zero_division=0)\n",
    "recall_test = recall_score(y_test, y_pred_test, average='weighted', zero_division=0)"
   ]
  },
  {
   "cell_type": "code",
   "execution_count": 49,
   "metadata": {},
   "outputs": [
    {
     "name": "stdout",
     "output_type": "stream",
     "text": [
      "accuracy: 0.8852\n",
      "precision: 0.8871\n",
      "recall: 0.8852\n"
     ]
    }
   ],
   "source": [
    "print(f'accuracy: {accuracy:.4f}')\n",
    "print(f'precision: {precision:.4f}')\n",
    "print(f'recall: {recall:.4f}')"
   ]
  },
  {
   "cell_type": "markdown",
   "metadata": {},
   "source": [
    "## 4. Bagging classifiers"
   ]
  },
  {
   "cell_type": "markdown",
   "metadata": {},
   "source": [
    "1. Using `BaggingClassifier` and `SVM` with the best parameters create an ensemble, try different values of the `n_estimators`, use `random_state=21`.\n",
    "2. Play with the other parameters.\n",
    "3. Calculate the `accuracy`, `precision`, and `recall` for the model with the best parameters (in terms of accuracy) on the test set (if there are several of them with equal values, choose the one with the higher precision)"
   ]
  },
  {
   "cell_type": "code",
   "execution_count": 53,
   "metadata": {},
   "outputs": [],
   "source": [
    "bagging_class= BaggingClassifier(svm, n_estimators=50, random_state=21)\n",
    "bagging_class.fit(X_train, y_train)\n",
    "y_pred_valid = bagging_class.predict(X_valid)\n",
    "y_pred_test = bagging_class.predict(X_test)"
   ]
  },
  {
   "cell_type": "code",
   "execution_count": 51,
   "metadata": {},
   "outputs": [],
   "source": [
    "accuracy_valid = accuracy_score(y_valid, y_pred_valid)\n",
    "precision_valid = precision_score(y_valid, y_pred_valid, average='weighted', zero_division=0)\n",
    "recall_valid = recall_score(y_valid, y_pred_valid, average='weighted', zero_division=0)"
   ]
  },
  {
   "cell_type": "code",
   "execution_count": 52,
   "metadata": {},
   "outputs": [
    {
     "name": "stdout",
     "output_type": "stream",
     "text": [
      "accuracy: 0.8852\n",
      "precision: 0.8871\n",
      "recall: 0.8852\n"
     ]
    }
   ],
   "source": [
    "print(f'accuracy: {accuracy:.4f}')\n",
    "print(f'precision: {precision:.4f}')\n",
    "print(f'recall: {recall:.4f}')"
   ]
  },
  {
   "cell_type": "code",
   "execution_count": 54,
   "metadata": {},
   "outputs": [],
   "source": [
    "accuracy_test = accuracy_score(y_test, y_pred_test)\n",
    "precision_test = precision_score(y_test, y_pred_test, average='weighted', zero_division=0)\n",
    "recall_test = recall_score(y_test, y_pred_test, average='weighted', zero_division=0)"
   ]
  },
  {
   "cell_type": "code",
   "execution_count": 55,
   "metadata": {},
   "outputs": [
    {
     "name": "stdout",
     "output_type": "stream",
     "text": [
      "accuracy: 0.8846\n",
      "precision: 0.8894\n",
      "recall: 0.8846\n"
     ]
    }
   ],
   "source": [
    "print(f'accuracy: {accuracy_test:.4f}')\n",
    "print(f'precision: {precision_test:.4f}')\n",
    "print(f'recall: {recall_test:.4f}')"
   ]
  },
  {
   "cell_type": "markdown",
   "metadata": {},
   "source": [
    "## 5. Stacking classifiers"
   ]
  },
  {
   "cell_type": "markdown",
   "metadata": {},
   "source": [
    "1. To achieve reproducibility in this case you will have to create an object of cross-validation generator: `StratifiedKFold(n_splits=n, shuffle=True, random_state=21)`, where `n` you will try to optimize (the details are below).\n",
    "2. Using `StackingClassifier` and the three models that you have recently trained, calculate the `accuracy`, `precision` and `recall` on the validation set, try different values of `n_splits` `[2, 3, 4, 5, 6, 7]` in the cross-validation generator and parameter `passthrough` in the classifier itself,\n",
    "3. Calculate the `accuracy`, `precision`, and `recall` for the model with the best parameters (in terms of accuracy) on the test set (if there are several of them with equal values, choose the one with the higher precision). Use `final_estimator=LogisticRegression(solver='liblinear')`."
   ]
  },
  {
   "cell_type": "code",
   "execution_count": 59,
   "metadata": {},
   "outputs": [],
   "source": [
    "\n",
    "skf = StratifiedKFold(n_splits=2, shuffle=True, random_state=21)\n",
    "\n",
    "stacking_class = StackingClassifier(\n",
    "        estimators=[('svm', svm), ('dt', tree), ('rf', forest)],\n",
    "        final_estimator=LogisticRegression(solver='liblinear'),\n",
    "        passthrough=True, \n",
    "        cv=skf\n",
    ")\n",
    "stacking_class.fit(X_train, y_train)\n",
    "y_pred = stacking_class.predict(X_test)"
   ]
  },
  {
   "cell_type": "code",
   "execution_count": null,
   "metadata": {},
   "outputs": [],
   "source": [
    "accuracy_test = accuracy_score(y_test, y_pred)\n",
    "precision_test = precision_score(y_test, y_pred, average='weighted', zero_division=0)\n",
    "recall_test = recall_score(y_test, y_pred, average='weighted', zero_division=0)"
   ]
  },
  {
   "cell_type": "code",
   "execution_count": 58,
   "metadata": {},
   "outputs": [
    {
     "name": "stdout",
     "output_type": "stream",
     "text": [
      "accuracy: 0.9201\n",
      "precision: 0.9209\n",
      "recall: 0.9201\n"
     ]
    }
   ],
   "source": [
    "print(f'accuracy: {accuracy_test:.4f}')\n",
    "print(f'precision: {precision_test:.4f}')\n",
    "print(f'recall: {recall_test:.4f}')"
   ]
  },
  {
   "cell_type": "markdown",
   "metadata": {},
   "source": [
    "## 6. Predictions"
   ]
  },
  {
   "cell_type": "markdown",
   "metadata": {},
   "source": [
    "1. Choose the best model in terms of accuracy (if there are several of them with equal values, choose the one with the higher precision).\n",
    "2. Analyze: for which weekday your model makes the most errors (in % of the total number of samples of that class in your full dataset), for which labname and for which users.\n",
    "3. Save the model."
   ]
  },
  {
   "cell_type": "code",
   "execution_count": null,
   "metadata": {},
   "outputs": [],
   "source": [
    "best_model = stacking_class\n",
    "\n",
    "error_analysis = {\n",
    "    'weekday_errors': {},\n",
    "    'labname_errors': {},\n",
    "    'user_errors': {}\n",
    "}\n",
    "\n",
    "df['predictions'] = best_model.predict(X)\n",
    "df['errors'] = df['predictions'] != df['weeks']"
   ]
  },
  {
   "cell_type": "code",
   "execution_count": 62,
   "metadata": {},
   "outputs": [
    {
     "data": {
      "text/plain": [
       "{4: 2.8846153846153846,\n",
       " 5: 4.059040590405904,\n",
       " 6: 2.247191011235955,\n",
       " 0: 8.088235294117647,\n",
       " 1: 2.9197080291970803,\n",
       " 2: 4.026845637583892,\n",
       " 3: 2.0202020202020203}"
      ]
     },
     "execution_count": 62,
     "metadata": {},
     "output_type": "execute_result"
    }
   ],
   "source": [
    "for weekday in df['weeks'].unique():\n",
    "    total_samples = df[df['weeks'] == weekday].shape[0]\n",
    "    error_samples = df[(df['weeks'] == weekday) & (df['errors'])].shape[0]\n",
    "    error_rate = (error_samples / total_samples) * 100 if total_samples > 0 else 0\n",
    "    error_analysis['weekday_errors'][weekday] = error_rate\n",
    "error_analysis['weekday_errors']"
   ]
  },
  {
   "cell_type": "code",
   "execution_count": 63,
   "metadata": {},
   "outputs": [
    {
     "data": {
      "text/plain": [
       "{'labname_code_rvw': 6.097560975609756,\n",
       " 'labname_lab02': 0.0,\n",
       " 'labname_lab03': 100.0,\n",
       " 'labname_lab03s': 0.0,\n",
       " 'labname_lab05s': 5.555555555555555,\n",
       " 'labname_laba04': 5.617977528089887,\n",
       " 'labname_laba04s': 7.6923076923076925,\n",
       " 'labname_laba05': 0.9009009009009009,\n",
       " 'labname_laba06': 6.25,\n",
       " 'labname_laba06s': 9.836065573770492,\n",
       " 'labname_project1': 1.8927444794952681}"
      ]
     },
     "execution_count": 63,
     "metadata": {},
     "output_type": "execute_result"
    }
   ],
   "source": [
    "for labname in df.columns[df.columns.str.startswith('labname_')]:\n",
    "    total_samples = df[df[labname] == 1].shape[0]\n",
    "    error_samples = df[(df[labname] == 1) & (df['errors'])].shape[0]\n",
    "    error_rate = (error_samples / total_samples) * 100 if total_samples > 0 else 0\n",
    "    error_analysis['labname_errors'][labname] = error_rate\n",
    "error_analysis['labname_errors']"
   ]
  },
  {
   "cell_type": "code",
   "execution_count": 64,
   "metadata": {},
   "outputs": [
    {
     "data": {
      "text/plain": [
       "{'uid_user_0': 0.0,\n",
       " 'uid_user_1': 2.1739130434782608,\n",
       " 'uid_user_10': 1.4084507042253522,\n",
       " 'uid_user_11': 0.0,\n",
       " 'uid_user_12': 0.0,\n",
       " 'uid_user_13': 1.6666666666666667,\n",
       " 'uid_user_14': 5.303030303030303,\n",
       " 'uid_user_15': 0.0,\n",
       " 'uid_user_16': 6.25,\n",
       " 'uid_user_17': 5.88235294117647,\n",
       " 'uid_user_18': 5.714285714285714,\n",
       " 'uid_user_19': 4.395604395604396,\n",
       " 'uid_user_2': 4.958677685950414,\n",
       " 'uid_user_20': 0.0,\n",
       " 'uid_user_21': 4.545454545454546,\n",
       " 'uid_user_22': 28.57142857142857,\n",
       " 'uid_user_23': 25.0,\n",
       " 'uid_user_24': 3.571428571428571,\n",
       " 'uid_user_25': 2.5,\n",
       " 'uid_user_26': 1.1111111111111112,\n",
       " 'uid_user_27': 4.3478260869565215,\n",
       " 'uid_user_28': 0.0,\n",
       " 'uid_user_29': 6.25,\n",
       " 'uid_user_3': 2.8169014084507045,\n",
       " 'uid_user_30': 2.564102564102564,\n",
       " 'uid_user_31': 4.0,\n",
       " 'uid_user_4': 1.5957446808510638,\n",
       " 'uid_user_6': 16.666666666666664,\n",
       " 'uid_user_7': 0.0,\n",
       " 'uid_user_8': 4.25531914893617}"
      ]
     },
     "execution_count": 64,
     "metadata": {},
     "output_type": "execute_result"
    }
   ],
   "source": [
    "for user_col in df.columns[df.columns.str.startswith('uid_user_')]:\n",
    "    total_samples = df[df[user_col] == 1].shape[0]\n",
    "    error_samples = df[(df[user_col] == 1) & (df['errors'])].shape[0]\n",
    "    error_rate = (error_samples / total_samples) * 100 if total_samples > 0 else 0\n",
    "    error_analysis['user_errors'][user_col] = error_rate\n",
    "error_analysis['user_errors']"
   ]
  },
  {
   "cell_type": "code",
   "execution_count": 65,
   "metadata": {},
   "outputs": [
    {
     "data": {
      "text/plain": [
       "['my_model_ex03.pkl']"
      ]
     },
     "execution_count": 65,
     "metadata": {},
     "output_type": "execute_result"
    }
   ],
   "source": [
    "joblib.dump(best_model, 'my_model_ex03.pkl')"
   ]
  }
 ],
 "metadata": {
  "kernelspec": {
   "display_name": "Python 3",
   "language": "python",
   "name": "python3"
  },
  "language_info": {
   "codemirror_mode": {
    "name": "ipython",
    "version": 3
   },
   "file_extension": ".py",
   "mimetype": "text/x-python",
   "name": "python",
   "nbconvert_exporter": "python",
   "pygments_lexer": "ipython3",
   "version": "3.12.3"
  }
 },
 "nbformat": 4,
 "nbformat_minor": 4
}
